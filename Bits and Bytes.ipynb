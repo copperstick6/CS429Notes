{
 "cells": [
  {
   "cell_type": "markdown",
   "metadata": {},
   "source": [
    "# Bits and Bytes"
   ]
  },
  {
   "cell_type": "markdown",
   "metadata": {},
   "source": [
    "## Why do we use binary?"
   ]
  },
  {
   "cell_type": "markdown",
   "metadata": {},
   "source": [
    "It's very easy to store 2 different values. Storing 10 different values for our base ten system is insanely difficult. It's messy to implement arithmetic operations and it's very hard to transmit over a single wire."
   ]
  },
  {
   "cell_type": "markdown",
   "metadata": {},
   "source": [
    "**Thus, Binary**"
   ]
  },
  {
   "cell_type": "markdown",
   "metadata": {},
   "source": [
    "It's very easy to represent two different states, on and off. It's very easy to send these two states over a wire."
   ]
  },
  {
   "cell_type": "markdown",
   "metadata": {},
   "source": [
    "In order to store data of type x, someone had to map items of type x to a specific ordering of bitstrings. This is representaional mapping. This is a very arbitrary manner of mapping."
   ]
  },
  {
   "cell_type": "markdown",
   "metadata": {},
   "source": [
    "**A bitstring can represent anything, but what it represents depends on the context**"
   ]
  },
  {
   "cell_type": "markdown",
   "metadata": {},
   "source": [
    "## Programs refer to virtual memory addresses"
   ]
  },
  {
   "cell_type": "markdown",
   "metadata": {},
   "source": [
    "Memory is typically a large array of bytes. Normally, it's implemented with a hierarchy of memory types: SRAM, DRAM, and then disk. Memory only allocates storage for regions actually used by the program."
   ]
  },
  {
   "cell_type": "markdown",
   "metadata": {},
   "source": [
    "In unix and windows, address space is private for a particular process. It encapsulates the program being executed so that a program can clobber its own data but not that of others to avoid crashing the system."
   ]
  },
  {
   "cell_type": "markdown",
   "metadata": {},
   "source": [
    "There are multiple storage mechanisms, static, stack and heap, all of which is allocated within a single virtual address space."
   ]
  },
  {
   "cell_type": "markdown",
   "metadata": {},
   "source": [
    "## Machines generally have a specific word size, or size of address"
   ]
  },
  {
   "cell_type": "markdown",
   "metadata": {},
   "source": [
    "Most machines run 64-bit software (8 bytes). 32-but software still exists, and limits address, but it's becoming too small for memory intensive applications."
   ]
  },
  {
   "cell_type": "markdown",
   "metadata": {},
   "source": [
    "All x86 current hardware systems are 64 bit, and can support multiple data types. They can operate in 16, 32, 64 bit modes. Normally, x86 machines start in 286 mode, which is the 16 bit mode, but they can be changed to run in 32 and 64 bit modes."
   ]
  },
  {
   "cell_type": "markdown",
   "metadata": {},
   "source": [
    "## Little vs Big Endian"
   ]
  },
  {
   "cell_type": "markdown",
   "metadata": {},
   "source": [
    "Little endian is a type of memory formatting favored by most machines in which the LSB is in the front and the MSB is in the end. This means that if you were to chop off bits from the front, the majority of the data won't be lost"
   ]
  },
  {
   "cell_type": "markdown",
   "metadata": {},
   "source": [
    "Big endian is a type of memory formatting such that the MSB is in the front and the LSB is in the end."
   ]
  },
  {
   "cell_type": "markdown",
   "metadata": {},
   "source": [
    "## Representing strings"
   ]
  },
  {
   "cell_type": "markdown",
   "metadata": {},
   "source": [
    "Strings are represented by a sequence of characters, which are encoded in ASCII format. All strings should be terminated by null, which has an ASCII code of 0."
   ]
  }
 ],
 "metadata": {
  "kernelspec": {
   "display_name": "Python 3",
   "language": "python",
   "name": "python3"
  },
  "language_info": {
   "codemirror_mode": {
    "name": "ipython",
    "version": 3
   },
   "file_extension": ".py",
   "mimetype": "text/x-python",
   "name": "python",
   "nbconvert_exporter": "python",
   "pygments_lexer": "ipython3",
   "version": "3.5.3"
  }
 },
 "nbformat": 4,
 "nbformat_minor": 2
}
