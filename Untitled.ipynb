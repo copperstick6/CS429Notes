{
 "cells": [
  {
   "cell_type": "markdown",
   "metadata": {},
   "source": [
    "# Slideset number 1: Intro to C"
   ]
  },
  {
   "cell_type": "markdown",
   "metadata": {},
   "source": [
    "## File inclusion"
   ]
  },
  {
   "cell_type": "markdown",
   "metadata": {},
   "source": [
    "A directive in the from of #include \"filename\" or #include <filename> is replaced by the preprocessor by the contents of the filename.  \n",
    "If the filename is quoted, searching begines in the base directory. If it isn't found there or if braces are used, searching follows an implementation defined rule to find the file.  \n",
    "\n",
    "**TLDR: use brackets for system defined headers and libraries like IO, quotes for files that are in the current directories imported/written by the user.**"
   ]
  },
  {
   "cell_type": "markdown",
   "metadata": {},
   "source": [
    "## Running code"
   ]
  },
  {
   "cell_type": "markdown",
   "metadata": {},
   "source": [
    "You must use the gcc compuler driver to translate your text file into an executable image, and then you must ask the operating system to run the executable."
   ]
  },
  {
   "cell_type": "raw",
   "metadata": {},
   "source": [
    "Rough syntax:  \n",
    "> gcc \"filename.c\"  \n",
    "Default filename if you don't name it is a.out  \n",
    "> a.out  \n",
    "calling a.out runs the file"
   ]
  },
  {
   "cell_type": "markdown",
   "metadata": {},
   "source": [
    "Just calling gcc invokes the preprocessor, the compiler, the assembler, and the linker."
   ]
  },
  {
   "cell_type": "raw",
   "metadata": {},
   "source": [
    "> gcc -O2 \"filename.c\"\n",
    "The -O2 command changes the optimization level of the executable. \n",
    "> gcc -O2 -o \"newname\" \"filename.c\"\n",
    "-o \"newname\" allows you to change the name of the executable and run it by invoking its newname."
   ]
  },
  {
   "cell_type": "markdown",
   "metadata": {},
   "source": [
    "## Programming with Environment Variables"
   ]
  },
  {
   "cell_type": "code",
   "execution_count": null,
   "metadata": {
    "collapsed": true
   },
   "outputs": [],
   "source": []
  }
 ],
 "metadata": {
  "kernelspec": {
   "display_name": "Python 3",
   "language": "python",
   "name": "python3"
  },
  "language_info": {
   "codemirror_mode": {
    "name": "ipython",
    "version": 3
   },
   "file_extension": ".py",
   "mimetype": "text/x-python",
   "name": "python",
   "nbconvert_exporter": "python",
   "pygments_lexer": "ipython3",
   "version": "3.5.3"
  }
 },
 "nbformat": 4,
 "nbformat_minor": 2
}
