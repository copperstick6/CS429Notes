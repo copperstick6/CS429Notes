{
 "cells": [
  {
   "cell_type": "markdown",
   "metadata": {},
   "source": [
    "## IEEE Standard 754"
   ]
  },
  {
   "cell_type": "markdown",
   "metadata": {},
   "source": [
    "Established in 1985 as a uniform standard for floating point arithmetic, supported by all major CPUs, consolidated all idiosyncratic formats.  \n",
    "It's driven by numerical concerns, and makes rounding, overflow, underflow very easy, and all operations by divide are fast."
   ]
  },
  {
   "cell_type": "markdown",
   "metadata": {},
   "source": [
    "Bits to the right of the binary point represent fractional powers of 2. You can only represent numbers of the form y + x/(2^i). Other fractions have repeating bit representations."
   ]
  },
  {
   "cell_type": "markdown",
   "metadata": {},
   "source": [
    "## IEEE Floating point representation"
   ]
  },
  {
   "cell_type": "markdown",
   "metadata": {},
   "source": [
    "In a normal 32 bit floating point, the first bit is the sign bit, the next 8 bits are the exponent, and the last 23 bits are the mantissa."
   ]
  },
  {
   "cell_type": "markdown",
   "metadata": {},
   "source": [
    "Normailly, the mantissa is a fraction between 1 and 2, and the exponent weight values by powers of 2."
   ]
  },
  {
   "cell_type": "markdown",
   "metadata": {},
   "source": [
    "**Single Precision: 32 bits, 8 exp, 23 frac**  \n",
    "**Double Precision: 64 bits, 11 exp, 52 frac**  \n",
    "**Extended Precision: 80 bits, 15 exp, 63 frac, 1 explicit 1 bit (i.e. rather than truncating the 1 for the mantissa, it's kept.)**"
   ]
  },
  {
   "cell_type": "markdown",
   "metadata": {},
   "source": [
    "## Normalized Numeric Values"
   ]
  },
  {
   "cell_type": "markdown",
   "metadata": {},
   "source": [
    "**Condition: exp is not 00000000 or 11111111**"
   ]
  },
  {
   "cell_type": "markdown",
   "metadata": {},
   "source": [
    "**Exponent is coded as a biased value**  \n",
    "E = Exponent - Bias  \n",
    "Exponent: unsigned value for the float exponent bits.  \n",
    "Bias: 2^(number of exponent bits -1) -1 "
   ]
  },
  {
   "cell_type": "markdown",
   "metadata": {},
   "source": [
    "Significand is coded with an implicit leading 1"
   ]
  },
  {
   "cell_type": "markdown",
   "metadata": {},
   "source": [
    "## Denormalized Numeric Values"
   ]
  },
  {
   "cell_type": "markdown",
   "metadata": {},
   "source": [
    "**Condition: exp = 00000000**"
   ]
  },
  {
   "cell_type": "markdown",
   "metadata": {},
   "source": [
    "Exponent value = -Bias + 1  \n",
    "Significand value: 0.xxxxx"
   ]
  },
  {
   "cell_type": "markdown",
   "metadata": {},
   "source": [
    "Case 1: exp = 00000000, frac = 00000000..000, **represents zero**"
   ]
  },
  {
   "cell_type": "markdown",
   "metadata": {},
   "source": [
    "Case 2: exp = 00000000, frac != 0000000..000, represents numbers veyr close to zero, and they lose precision as they get smaller. these numbers experience gradual underflow"
   ]
  },
  {
   "cell_type": "markdown",
   "metadata": {},
   "source": [
    "## Special Values"
   ]
  },
  {
   "cell_type": "markdown",
   "metadata": {},
   "source": [
    "**Condition: exp = 111111111**"
   ]
  },
  {
   "cell_type": "markdown",
   "metadata": {},
   "source": [
    "Case 1: exp = 11111111, frac = 0000...00000, **represents infinity**, result returned for operations that overflow, sign indicates positive or negative infinity"
   ]
  },
  {
   "cell_type": "markdown",
   "metadata": {},
   "source": [
    "Case 2: exp = 11111111, frac != 0000...0000, **represents NaN**, represents the case when no number can be determined"
   ]
  },
  {
   "cell_type": "markdown",
   "metadata": {
    "collapsed": true
   },
   "source": [
    "## Properties of FP add and Multiply"
   ]
  },
  {
   "cell_type": "markdown",
   "metadata": {},
   "source": [
    "Add Properties are closed under addition, but may generate infinity or NaN. They are commutative, but not associative, and slmost ever elemnt has an additive inverse except infinities and NaN. Adds almost have monotonicity except infinities and NaNs."
   ]
  },
  {
   "cell_type": "markdown",
   "metadata": {},
   "source": [
    "Multiplication properties are closed, commutative, not associative, and 1 is a multiplicative identity, and doesnt distribute over add. It is monotonous except for infinities and NaNs."
   ]
  }
 ],
 "metadata": {
  "kernelspec": {
   "display_name": "Python 3",
   "language": "python",
   "name": "python3"
  },
  "language_info": {
   "codemirror_mode": {
    "name": "ipython",
    "version": 3
   },
   "file_extension": ".py",
   "mimetype": "text/x-python",
   "name": "python",
   "nbconvert_exporter": "python",
   "pygments_lexer": "ipython3",
   "version": "3.5.3"
  }
 },
 "nbformat": 4,
 "nbformat_minor": 2
}
