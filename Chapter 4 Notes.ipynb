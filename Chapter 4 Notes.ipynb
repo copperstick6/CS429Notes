{
 "cells": [
  {
   "cell_type": "markdown",
   "metadata": {},
   "source": [
    "# 4.1 The Y-86 ISA"
   ]
  },
  {
   "cell_type": "markdown",
   "metadata": {},
   "source": [
    "### 4.1.1 Programmer-Visible State"
   ]
  },
  {
   "cell_type": "markdown",
   "metadata": {},
   "source": [
    "The Y86-64 program can modify some part of the processor state. This is referred to as the *programmer visible state* where the programmer is someone writing programs in assembly.    \n",
    "The state for Y86 is similar to that for x86. There are 15 program registers. There are three single bit condition codes for storing information, CF, ZF, OF.   \n",
    "The **memory** is conceptually a large array of bytes. The Y84 programs reference memory locations using **virtual adresses**. Hardware and OS software translate these into actual or **physical addresses**. The status code indicates the state of program execution and indicates whether an exception has occurred."
   ]
  },
  {
   "cell_type": "markdown",
   "metadata": {},
   "source": [
    "### 4.1.2 Y86 Instructions"
   ]
  },
  {
   "cell_type": "markdown",
   "metadata": {},
   "source": [
    "x86 movq instructions are split into irmovq, rrmovq, mrmovq, and rmmovq, the source isis either i, r, or m. The destination is r or m/ There are four integer operation instructions, operating only on reigster data. They set three condition codes, ZF, SF, and OF.\n",
    "  \n",
    "This is for Y86   \n",
    "\n",
    "There are four integer operation instructions addq, subq, addq, and xorq.   \n",
    "\n",
    "There are seven jump instructions, six conditional moves, and pushq, popq, and call. THere is even the halt instruction."
   ]
  },
  {
   "cell_type": "markdown",
   "metadata": {},
   "source": [
    "# 4.2 Logic Design and HCL"
   ]
  },
  {
   "cell_type": "markdown",
   "metadata": {},
   "source": [
    "HCL is hardware control language, the language that is used to describe the control logic of the different processor designs."
   ]
  },
  {
   "cell_type": "markdown",
   "metadata": {},
   "source": [
    "### 4.2.1 Logic Gates"
   ]
  },
  {
   "cell_type": "markdown",
   "metadata": {},
   "source": [
    "Logic gates are the basic computing elements for digital circuits and generate an ouput equal to a boolean function of the bit values of the inputs.   \n",
    "Logic gates are always active."
   ]
  },
  {
   "cell_type": "markdown",
   "metadata": {},
   "source": [
    "### 4.2.2 Combinational Circuits"
   ]
  },
  {
   "cell_type": "markdown",
   "metadata": {},
   "source": [
    "By assembling a number of logic gates, we can construct computational blocks known as combinational circuits.  \n",
    "Outputs of two or more logic gates cannot be connected together, and the circuits must be acyclic for a certain circuit to be a combinational circuit.    "
   ]
  },
  {
   "cell_type": "markdown",
   "metadata": {},
   "source": [
    "### 4.2.3 HCL expressions and Circuits"
   ]
  },
  {
   "cell_type": "markdown",
   "metadata": {},
   "source": [
    "Typically, circuits are deisnged to operate on data words. These are groups of signals that represent integers or other control patterns."
   ]
  },
  {
   "cell_type": "markdown",
   "metadata": {},
   "source": [
    "### 4.2.5 Memory and Clocking"
   ]
  },
  {
   "cell_type": "markdown",
   "metadata": {},
   "source": [
    "Circuits do not store information, they react to signals at their inputs. To create sequential circuits, we must introduce devices that sotre information.    \n",
    "They will be controlled by a single **clock**, which determines when new values are loaded into the devices"
   ]
  },
  {
   "cell_type": "markdown",
   "metadata": {},
   "source": [
    "**Clocked Registers** (or registers) store individual words or bits. The clock signal controls the loading and value of the register.      \n",
    "  \n",
    "**Random access memories** (or memories) store multiple words using an address to select which word should be read or written. Examples include the virtual memory system or the register file, in which the registers serve as addresses."
   ]
  },
  {
   "cell_type": "markdown",
   "metadata": {},
   "source": [
    "The register file has two read ports, and one write port. This allows multiple read and write operations to take place "
   ]
  }
 ],
 "metadata": {
  "kernelspec": {
   "display_name": "Python 3",
   "language": "python",
   "name": "python3"
  },
  "language_info": {
   "codemirror_mode": {
    "name": "ipython",
    "version": 3
   },
   "file_extension": ".py",
   "mimetype": "text/x-python",
   "name": "python",
   "nbconvert_exporter": "python",
   "pygments_lexer": "ipython3",
   "version": "3.5.3"
  }
 },
 "nbformat": 4,
 "nbformat_minor": 2
}
