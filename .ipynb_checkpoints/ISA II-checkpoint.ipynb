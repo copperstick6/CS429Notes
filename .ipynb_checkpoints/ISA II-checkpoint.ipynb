{
 "cells": [
  {
   "cell_type": "markdown",
   "metadata": {},
   "source": [
    "# ISA II"
   ]
  },
  {
   "cell_type": "markdown",
   "metadata": {},
   "source": [
    "## x86 Processors"
   ]
  },
  {
   "cell_type": "markdown",
   "metadata": {},
   "source": [
    "x86 processors are CISC, or complext instruction set computers, which is why they support many old, obsolete "
   ]
  },
  {
   "cell_type": "markdown",
   "metadata": {},
   "source": [
    "## General Definitions"
   ]
  },
  {
   "cell_type": "markdown",
   "metadata": {},
   "source": [
    "Architecture- parts of a processor design one needs to understand to read/write assembly/machine code   \n",
    "Microarchitecture- implementation of the architecture   \n",
    "Code Forms-   \n",
    "Machine Code- bits and bytes executed by the machine    \n",
    "Assembly code- textual representation of machine code"
   ]
  },
  {
   "cell_type": "markdown",
   "metadata": {},
   "source": [
    "## ISA Principles"
   ]
  },
  {
   "cell_type": "markdown",
   "metadata": {},
   "source": [
    "Contrast between the programmer and the hardware, programmer believes that ISA is how the hardware **should** execute instructions, whereas the hardware sees ISA as a model of the **correct** way to execute programs   \n",
    "**ISA Specifications** are the binary encoding of an instruction set"
   ]
  },
  {
   "cell_type": "markdown",
   "metadata": {},
   "source": [
    "**Architecture** is what a program does in response to a program and a set of data    \n",
    "**Implementation** defines how the computer will do it"
   ]
  },
  {
   "cell_type": "markdown",
   "metadata": {},
   "source": [
    "## Turning C into Object Code"
   ]
  },
  {
   "cell_type": "markdown",
   "metadata": {},
   "source": [
    "Let's say we have two files **p1.c** and **p2.c**    \n",
    "For minimal optimization, compile with **gcc -Og p1.c p2.c -o p**  \n",
    "Use -Og, maximum optimization    \n",
    "**Assembler**- translate .s into .o file, is a binary encoding, and is a nearly executable image, missing only linkages in code to different files    \n",
    "**Linker**- resolves references in files to libraries     \n",
    "**Disassembler**- useful tool for examining object code using *objdump -d \"file name\"*, produces an approximate rendition of the object code, can be run on a complete executable or a .o file"
   ]
  },
  {
   "cell_type": "markdown",
   "metadata": {},
   "source": [
    "## Assembly Characteristics"
   ]
  },
  {
   "cell_type": "markdown",
   "metadata": {},
   "source": [
    "### Minimal Data Types"
   ]
  },
  {
   "cell_type": "markdown",
   "metadata": {},
   "source": [
    "\"Integer\" Data of 1, 2, 4, or 8 bytes   \n",
    "Addresses (untyped pointers)    \n",
    "Floating point data of 4, 8, or 10 bytes    \n",
    "No aggregate types such as arrays or structures   \n",
    "Just continguously allocated bytes in memory"
   ]
  },
  {
   "cell_type": "markdown",
   "metadata": {},
   "source": [
    "### Primitive Operations"
   ]
  },
  {
   "cell_type": "markdown",
   "metadata": {},
   "source": [
    "Perform arithmetic operations on register or memory data   \n",
    "Transfer data between memory into register    \n",
    "Transfer control (jump to and from procedures and conditionals)"
   ]
  },
  {
   "cell_type": "markdown",
   "metadata": {},
   "source": [
    "# x86"
   ]
  },
  {
   "cell_type": "markdown",
   "metadata": {},
   "source": [
    "## Moving Data"
   ]
  },
  {
   "cell_type": "markdown",
   "metadata": {},
   "source": [
    "Form: movq Source, Dest    \n",
    "move 8-byte long word"
   ]
  },
  {
   "cell_type": "markdown",
   "metadata": {},
   "source": [
    "### Operand types"
   ]
  },
  {
   "cell_type": "markdown",
   "metadata": {},
   "source": [
    "**Immedate moves**- Constant integer data i.e. movq $2 %r8   \n",
    "**Register Moves**- Moving from register to register, all registers excpet %rsp (stack pointer) i.e. movq %r8 %r10   \n",
    "**Memory moves**- Moving data to/from the address contained within register i.e. movq (%rdi) %r8"
   ]
  },
  {
   "cell_type": "markdown",
   "metadata": {},
   "source": [
    "**MEMORY TO MEMORY TRANSFERS ARE NOT ALLOWED WITHIN A SINGLE LINE**"
   ]
  },
  {
   "cell_type": "markdown",
   "metadata": {},
   "source": [
    "## Addressing Modes"
   ]
  },
  {
   "cell_type": "markdown",
   "metadata": {},
   "source": [
    "**Immediate**- moving values i.e. movq $0xab %rbx   \n",
    "**Register** moving values from register to register i.e. movq %rdi %rbx    \n",
    "**Normal/Indirect**- moving data from the memory pointed to by register to register i.e. movq (%rcx) %rdi   \n",
    "**Displacement**- moving data from memory pointed to by register + a certain amount to register i.e. movq 8(%rdi) %rcx"
   ]
  },
  {
   "cell_type": "markdown",
   "metadata": {},
   "source": [
    "**Pretty much the same as in Y86**"
   ]
  },
  {
   "cell_type": "markdown",
   "metadata": {},
   "source": [
    "**C Programming is close to the actual machine language**   \n",
    "Machine language manipulates memory addresses, and C employs pointers, which are just addresses of data types and structures"
   ]
  },
  {
   "cell_type": "markdown",
   "metadata": {},
   "source": [
    "### Special addressing mode - Indexed Addressing Mode"
   ]
  },
  {
   "cell_type": "markdown",
   "metadata": {},
   "source": [
    "Form: D(Rb, Ri, S)  \n",
    "Mem[%rb + S*%ri + D]   \n",
    "D- constant displacement (1,2,4 bytes or 4,8,16 bits)  \n",
    "rb/ri- base/index registers, preferably nor %rbp or %rsp   \n",
    "S- Scale, either 1,2,4, or 8"
   ]
  },
  {
   "cell_type": "markdown",
   "metadata": {},
   "source": [
    "### Special Cases"
   ]
  },
  {
   "cell_type": "markdown",
   "metadata": {},
   "source": [
    "(Rb + Ri) = Mem[%rb + %ri]   \n",
    "D(Rb + Ri) = Mem[%rb + %ri +D]   \n"
   ]
  }
 ],
 "metadata": {
  "kernelspec": {
   "display_name": "Python 3",
   "language": "python",
   "name": "python3"
  },
  "language_info": {
   "codemirror_mode": {
    "name": "ipython",
    "version": 3
   },
   "file_extension": ".py",
   "mimetype": "text/x-python",
   "name": "python",
   "nbconvert_exporter": "python",
   "pygments_lexer": "ipython3",
   "version": "3.5.3"
  }
 },
 "nbformat": 4,
 "nbformat_minor": 2
}
