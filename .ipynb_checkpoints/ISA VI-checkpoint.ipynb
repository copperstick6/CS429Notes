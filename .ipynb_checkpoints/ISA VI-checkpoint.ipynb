{
 "cells": [
  {
   "cell_type": "markdown",
   "metadata": {},
   "source": [
    "## Structures and alignment"
   ]
  },
  {
   "cell_type": "markdown",
   "metadata": {},
   "source": [
    "Data alignment happens because primitive data requires K bytes and address must be a multiple of K"
   ]
  },
  {
   "cell_type": "markdown",
   "metadata": {},
   "source": [
    "The motivation to align data is that memory is accessed in chunks of 4-8 bytes(system dependent)    \n",
    "It's inefficient to load ot store data that spans quad word boundaries, so the compiler inserts gaps in structure to ensure correct alignment of fields."
   ]
  },
  {
   "cell_type": "markdown",
   "metadata": {},
   "source": [
    "## Specific Cases of Alignment"
   ]
  },
  {
   "cell_type": "markdown",
   "metadata": {},
   "source": [
    "1 byte, no restrictions on address    \n",
    "2 bytes, lowest 1 bit of address must be 02   \n",
    "4 bytes, lowest 2 bits of address must be 002   \n",
    "8 bytes, lowest 3 bits of address must be 0002   \n",
    "16 bytes, lowest 4 bits of address must be 00002   "
   ]
  },
  {
   "cell_type": "markdown",
   "metadata": {},
   "source": [
    "Within structure, must satisfy each element's alignment requirement.   \n",
    "Largest element must have an alignment requirement of K and be a multiple of K"
   ]
  },
  {
   "cell_type": "markdown",
   "metadata": {},
   "source": [
    "Arrays of structures must be a structure length of a multiple of K, and must satisfy alignment requirement for each element"
   ]
  },
  {
   "cell_type": "markdown",
   "metadata": {},
   "source": [
    "In order to save space, put larger elements first"
   ]
  },
  {
   "cell_type": "markdown",
   "metadata": {},
   "source": [
    "## Union Allocation"
   ]
  },
  {
   "cell_type": "markdown",
   "metadata": {},
   "source": [
    "Principle is to overlay union elements, use one field at a time, and allocate the largest element"
   ]
  }
 ],
 "metadata": {
  "kernelspec": {
   "display_name": "Python 3",
   "language": "python",
   "name": "python3"
  },
  "language_info": {
   "codemirror_mode": {
    "name": "ipython",
    "version": 3
   },
   "file_extension": ".py",
   "mimetype": "text/x-python",
   "name": "python",
   "nbconvert_exporter": "python",
   "pygments_lexer": "ipython3",
   "version": "3.5.3"
  }
 },
 "nbformat": 4,
 "nbformat_minor": 2
}
