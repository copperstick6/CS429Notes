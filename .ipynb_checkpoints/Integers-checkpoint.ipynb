{
 "cells": [
  {
   "cell_type": "markdown",
   "metadata": {},
   "source": [
    "# Integers"
   ]
  },
  {
   "cell_type": "markdown",
   "metadata": {},
   "source": [
    "## Encoding Integers"
   ]
  },
  {
   "cell_type": "markdown",
   "metadata": {},
   "source": [
    "For two's complement the MSB indicates the sign. Because of this, the range of two's complement is from -2^(n-1) to 2^(n-1)-1, whereas for the range of normal unsigned ints, it would be from 0 to 2^(n)-1."
   ]
  },
  {
   "cell_type": "markdown",
   "metadata": {},
   "source": [
    "Casting between unsigned and signed ints does not change the bits and the bit level, but rather changes how the bits are interpreted."
   ]
  },
  {
   "cell_type": "markdown",
   "metadata": {},
   "source": [
    "## Why Unsigned? Just use TC to do everything."
   ]
  },
  {
   "cell_type": "markdown",
   "metadata": {},
   "source": [
    "Unsigned integers should be used when performing modular arithmetic, or when you need extra bits of range in the positive direction. Don't use unsigned to ensure that numbers are non zero. Some C compilers generate less efficient code, and it's easy to make mistakes."
   ]
  },
  {
   "cell_type": "markdown",
   "metadata": {},
   "source": [
    "## Two's Complement Operations"
   ]
  },
  {
   "cell_type": "markdown",
   "metadata": {},
   "source": [
    "Negation with two's complement to find the negative should be done thusly: ~x + 1 = -x"
   ]
  },
  {
   "cell_type": "markdown",
   "metadata": {},
   "source": [
    "## Common Two's Complement and Unsigned Operations"
   ]
  },
  {
   "cell_type": "markdown",
   "metadata": {},
   "source": [
    "Unsigned addition is easy, all we have to do is add the bits at a bit level. However with Two's Complement, it gets harder since we have to deal with a sign bit. We discard the carry bit and treat the result as a two's complement number. Both additions have identical bit level behaviors."
   ]
  },
  {
   "cell_type": "markdown",
   "metadata": {},
   "source": [
    "The process of multiplication is almost identical for both unsigned and TC integers. For both types, we just discard the most significant bits and treat the result as an unsigned value."
   ]
  },
  {
   "cell_type": "markdown",
   "metadata": {},
   "source": [
    "### Multiplying/Dividing with shifts"
   ]
  },
  {
   "cell_type": "markdown",
   "metadata": {},
   "source": [
    "We can also multiply and divide using shifts. Shifting left by n units will cause the number to be nultiplied byt 2^n, whereas shifting to the right will cause the number to be divided by 2^n."
   ]
  },
  {
   "cell_type": "markdown",
   "metadata": {},
   "source": [
    "## Floor and Ceiling"
   ]
  },
  {
   "cell_type": "markdown",
   "metadata": {},
   "source": [
    "Floor is the greatest number less than or equal to the number, whereas ceiling is the least number greater than or equal to the number."
   ]
  }
 ],
 "metadata": {
  "kernelspec": {
   "display_name": "Python 3",
   "language": "python",
   "name": "python3"
  },
  "language_info": {
   "codemirror_mode": {
    "name": "ipython",
    "version": 3
   },
   "file_extension": ".py",
   "mimetype": "text/x-python",
   "name": "python",
   "nbconvert_exporter": "python",
   "pygments_lexer": "ipython3",
   "version": "3.5.3"
  }
 },
 "nbformat": 4,
 "nbformat_minor": 2
}
