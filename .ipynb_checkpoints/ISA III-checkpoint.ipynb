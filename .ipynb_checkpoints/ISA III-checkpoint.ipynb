{
 "cells": [
  {
   "cell_type": "markdown",
   "metadata": {},
   "source": [
    "# Controlling Program Execution"
   ]
  },
  {
   "cell_type": "markdown",
   "metadata": {},
   "source": [
    "### Information about currently executing program"
   ]
  },
  {
   "cell_type": "markdown",
   "metadata": {},
   "source": [
    "Temporary data, stack pointer, location of current code control point, status of recent tests"
   ]
  },
  {
   "cell_type": "markdown",
   "metadata": {},
   "source": [
    "## Condition Codes"
   ]
  },
  {
   "cell_type": "markdown",
   "metadata": {},
   "source": [
    "**CF** (Carry Flag, for unsigned)    \n",
    "**ZF** (Zero Flag)    \n",
    "**SF** (Sign Flag, for signed)    \n",
    "**OF** (Overflow Flag, for signed)"
   ]
  },
  {
   "cell_type": "markdown",
   "metadata": {},
   "source": [
    "addq Src Dest   \n",
    "C analog t = a + b    \n",
    "CF is set if there is carry-out from the most significant bit (unsigned overflow)    \n",
    "ZF is set if t = 0    \n",
    "SF is set if t < 0   \n",
    "OF if set if two's complement overflow    \n",
    "**leal does not set condition flags**"
   ]
  },
  {
   "cell_type": "markdown",
   "metadata": {},
   "source": [
    "cmpq b a  \n",
    "This is like computing b-a without setting destination    \n",
    "CF is set for carryout for unsigned operation    \n",
    "ZF is set if a = b    \n",
    "SF is set if (a-b) < 0    \n",
    "OF is set if two's complement overflow"
   ]
  },
  {
   "cell_type": "markdown",
   "metadata": {},
   "source": [
    "testq b a    \n",
    "Sets the condition based on b & a    \n",
    "ZF is set if a & b = 0    \n",
    "SF is set if a & b < 0    \n",
    "CF and OF are set to 0"
   ]
  },
  {
   "cell_type": "markdown",
   "metadata": {},
   "source": [
    "SetX - Set the low order bytes to 0 and 1, doesn't alter remaining 7 bytes"
   ]
  },
  {
   "cell_type": "markdown",
   "metadata": {},
   "source": [
    "C allows goto as a way of transferring control"
   ]
  },
  {
   "cell_type": "markdown",
   "metadata": {},
   "source": [
    "# Know how to deal with general control structures"
   ]
  },
  {
   "cell_type": "markdown",
   "metadata": {},
   "source": [
    "If you have a set of really separated switches, then if makes more sense   \n",
    "If there are a lot of switches, a binary tree makes more sense"
   ]
  }
 ],
 "metadata": {
  "kernelspec": {
   "display_name": "Python 3",
   "language": "python",
   "name": "python3"
  },
  "language_info": {
   "codemirror_mode": {
    "name": "ipython",
    "version": 3
   },
   "file_extension": ".py",
   "mimetype": "text/x-python",
   "name": "python",
   "nbconvert_exporter": "python",
   "pygments_lexer": "ipython3",
   "version": "3.5.3"
  }
 },
 "nbformat": 4,
 "nbformat_minor": 2
}
