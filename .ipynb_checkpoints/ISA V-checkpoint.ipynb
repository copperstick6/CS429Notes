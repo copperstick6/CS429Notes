{
 "cells": [
  {
   "cell_type": "markdown",
   "metadata": {},
   "source": [
    "## Basic Data Types"
   ]
  },
  {
   "cell_type": "markdown",
   "metadata": {},
   "source": [
    "    Intel       GAS       Bytes         C  \n",
    "    Byte        b         1             (unsigned) char\n",
    "    word        w         2             (unsigned) short\n",
    "    double word l         4             (unsigned) int\n",
    "    quad word   q         8             (unsigned) long int\n",
    "    \n",
    "    Floats\n",
    "    Single      s         4             float\n",
    "    Double      l         8             double\n",
    "    Extended    t         12            long double"
   ]
  },
  {
   "cell_type": "markdown",
   "metadata": {},
   "source": [
    "### Array Allocation"
   ]
  },
  {
   "cell_type": "markdown",
   "metadata": {},
   "source": [
    "Basic Form: **T A[L]**    \n",
    "Array (A) of data type T and of length L    \n",
    "Contiguously allocated region (next to each other) of L$*$sizeof(T) bytes"
   ]
  },
  {
   "cell_type": "markdown",
   "metadata": {},
   "source": [
    "## Array Access"
   ]
  },
  {
   "cell_type": "markdown",
   "metadata": {},
   "source": [
    "Let's say the array is an input argument, so %rdi contains the starting address of the array, and let's say our second argument is the index of the element we want, so %rsi contains the array index    \n",
    "The desired location of the digit is %rdi + (sizeof(t) * %rsi), which is in the form (%rdi, %rsi, 4)"
   ]
  },
  {
   "cell_type": "markdown",
   "metadata": {},
   "source": [
    "## 2D Arrays"
   ]
  },
  {
   "cell_type": "markdown",
   "metadata": {},
   "source": [
    "Basic Form: **T A[R][C]**    \n",
    "This is a 2d array of Type T with R rows and C columns    \n",
    "Type T requires K bytes.    \n",
    "Thus, the size of the 2d array is R$*$C$*$K    \n",
    "2D array elements are stored in Row Major order (i.e. row from left to right, then down one column)"
   ]
  },
  {
   "cell_type": "markdown",
   "metadata": {},
   "source": [
    "To access element A[i][j], perform the following calculation:   \n",
    "**A+i$*$C$*$K+j$*$K**"
   ]
  },
  {
   "cell_type": "markdown",
   "metadata": {},
   "source": [
    "In order to declare a nested 2d array, first declare a normal array, and then put an array of elements within that array. If you wanted to create an array of size A[4][5], declare an array of size 4 and then allocate 5 items within that array."
   ]
  },
  {
   "cell_type": "markdown",
   "metadata": {},
   "source": [
    "Given an array of T A[R][C], you can think of it as an **array of arrays**.    \n",
    "A[i] has an array of C elements, and each element has Type T and requires K bytes.    \n",
    "The starting address of A[i] is **A + i$*$C$*$K**"
   ]
  },
  {
   "cell_type": "markdown",
   "metadata": {},
   "source": [
    "## Multi-level Arrays"
   ]
  },
  {
   "cell_type": "markdown",
   "metadata": {},
   "source": [
    "Let's say you have three arrays, called mit, cmu, and ut, and we define univ to contain all three arrays.    \n",
    "Each element within the array is a pointer, and each pointer points to an array of ints."
   ]
  },
  {
   "cell_type": "markdown",
   "metadata": {},
   "source": [
    "In order to access elements within the array, first get the pointer to the row array, and then access elements within the row."
   ]
  },
  {
   "cell_type": "markdown",
   "metadata": {},
   "source": [
    "## Structure Representation"
   ]
  },
  {
   "cell_type": "markdown",
   "metadata": {},
   "source": [
    "Structure is reprented by a block of memory, big enough to hold all fields.   \n",
    "Fields are ordered depending on declaration, even if another order could yield a more compact ordering.    \n",
    "Compiler determines size and position of fields."
   ]
  }
 ],
 "metadata": {
  "kernelspec": {
   "display_name": "Python 3",
   "language": "python",
   "name": "python3"
  },
  "language_info": {
   "codemirror_mode": {
    "name": "ipython",
    "version": 3
   },
   "file_extension": ".py",
   "mimetype": "text/x-python",
   "name": "python",
   "nbconvert_exporter": "python",
   "pygments_lexer": "ipython3",
   "version": "3.5.3"
  }
 },
 "nbformat": 4,
 "nbformat_minor": 2
}
