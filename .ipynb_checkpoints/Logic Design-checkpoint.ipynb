{
 "cells": [
  {
   "cell_type": "markdown",
   "metadata": {},
   "source": [
    "# Logic Design"
   ]
  },
  {
   "cell_type": "markdown",
   "metadata": {},
   "source": [
    "There's either off or on for voltage signals, the reasons for which we discussed earlier. The voltage thresholds help extract the types of signals from a noisy voltage."
   ]
  },
  {
   "cell_type": "markdown",
   "metadata": {},
   "source": [
    "Logic gates are constructed from transistors. The output is a boolean function of inputs. The gate responds continuously to changes in input with a small dealy."
   ]
  },
  {
   "cell_type": "markdown",
   "metadata": {},
   "source": [
    "Some gates allow multiple inputs. For a 3 input And, it is simply just a cascade of two 2-input Ands"
   ]
  },
  {
   "cell_type": "markdown",
   "metadata": {},
   "source": [
    "A small circle on the input or output means that the signal is inverted"
   ]
  },
  {
   "cell_type": "markdown",
   "metadata": {},
   "source": [
    "## Sets of Logic Gates"
   ]
  },
  {
   "cell_type": "markdown",
   "metadata": {},
   "source": [
    "Any boolean function can be implemented with AND, OR, and NOT."
   ]
  },
  {
   "cell_type": "markdown",
   "metadata": {},
   "source": [
    "{AND, NOT}, {OR, NOT}, NAND, NOR are all functionally complete sets"
   ]
  },
  {
   "cell_type": "markdown",
   "metadata": {},
   "source": [
    "## Combinational Circuits"
   ]
  },
  {
   "cell_type": "markdown",
   "metadata": {},
   "source": [
    "Combinational circuits contain an acyclic network of logic gates which continuously repond to changes in inputs. Outputs become boolean functions of inputs"
   ]
  },
  {
   "cell_type": "markdown",
   "metadata": {},
   "source": [
    "**Hardware description languages describe control, data movement, and compile a hardware description into a circuit**"
   ]
  },
  {
   "cell_type": "markdown",
   "metadata": {},
   "source": [
    "## HCL- Hardware Control Language"
   ]
  },
  {
   "cell_type": "markdown",
   "metadata": {},
   "source": [
    "It's a very simple hardware description language, with two data types, bool and int, both of which do not specify word size. There are boolean expressions (logic operations, word comparisons, and set membership), as well as word expressions (case expressions, evaluate boolean expressions in sequence, and return corresponding word expression for first successful boolean evaluation)."
   ]
  },
  {
   "cell_type": "markdown",
   "metadata": {},
   "source": [
    "## Bit Multiplexor"
   ]
  },
  {
   "cell_type": "markdown",
   "metadata": {},
   "source": [
    "Control signal selects between the inputs, and has a different output"
   ]
  },
  {
   "cell_type": "markdown",
   "metadata": {},
   "source": [
    "## Word Multiplexor"
   ]
  },
  {
   "cell_type": "markdown",
   "metadata": {},
   "source": [
    "Lots of bit level multiplexors with a control signal"
   ]
  },
  {
   "cell_type": "markdown",
   "metadata": {},
   "source": [
    "## Storing a value"
   ]
  },
  {
   "cell_type": "markdown",
   "metadata": {},
   "source": [
    "1. Line enable should be on low (default). \n",
    "2. Place the bit to store on line Data. \n",
    "3. Raise the enable to high. \n",
    "4. The data on line Data is stored on device. \n",
    "5. Lower data to 0. \n"
   ]
  },
  {
   "cell_type": "markdown",
   "metadata": {},
   "source": [
    "A SR Flip Flow is a step in the direction of a latch  \n",
    "Set  Reset  Stored value   Comment  \n",
    "0     0      0              hold state   \n",
    "0     1      0              reset  \n",
    "1     0      1              set  \n",
    "1     1      X              not allowed  "
   ]
  },
  {
   "cell_type": "markdown",
   "metadata": {},
   "source": [
    "D Latch is another latch that is used  \n",
    "Enable/clock pulse  data stored Q- stored data  !Q inverse Q  \n",
    "0 X Q !Q no change  \n",
    "1 0 0 1  reset  \n",
    "1 1 1 0  set  "
   ]
  },
  {
   "cell_type": "markdown",
   "metadata": {},
   "source": [
    "4 D latches all share the E input"
   ]
  },
  {
   "cell_type": "markdown",
   "metadata": {},
   "source": [
    "**Register file probides the CPU with temporary, fast storage**"
   ]
  },
  {
   "cell_type": "markdown",
   "metadata": {},
   "source": [
    "**Write Enable must be held at 1 long enough for the data to be read, operation to be performed, and the result to be stored in the target register**"
   ]
  },
  {
   "cell_type": "markdown",
   "metadata": {},
   "source": [
    "An edge triggered flip flop changes the states either at the positive edge or the negative edge of the clock pulse onthe control point. A register is made up of several flip flops, each providing storage and access for an individual bit. A register file is made up of several registers and control logic."
   ]
  },
  {
   "cell_type": "markdown",
   "metadata": {},
   "source": [
    "## Clocking"
   ]
  },
  {
   "cell_type": "markdown",
   "metadata": {},
   "source": [
    "A clocking acts to enofrce timing control on the chip and can be global. Clock frequency is 1/clock period, and is measured in cycles per second (Hertz). Higher frequency means faster machine speed."
   ]
  },
  {
   "cell_type": "markdown",
   "metadata": {},
   "source": [
    "## Random Access Memory"
   ]
  },
  {
   "cell_type": "markdown",
   "metadata": {},
   "source": [
    "Conceptually, a large array where each row is memory addressable, and is normally much more complex to increase throughout."
   ]
  },
  {
   "cell_type": "markdown",
   "metadata": {},
   "source": [
    "## DRAM"
   ]
  },
  {
   "cell_type": "markdown",
   "metadata": {},
   "source": [
    "Dynamic RAM is large and inexpensive, one transistor and one capacitor per bit, reads are destructive and require periodic refresh, and access time takes hundreds of CPU cycles"
   ]
  },
  {
   "cell_type": "markdown",
   "metadata": {},
   "source": [
    "## SRAM"
   ]
  },
  {
   "cell_type": "markdown",
   "metadata": {},
   "source": [
    "Static RAM is fast but expensive, 6 transistors per bit, and has a straming orientation."
   ]
  }
 ],
 "metadata": {
  "kernelspec": {
   "display_name": "Python 3",
   "language": "python",
   "name": "python3"
  },
  "language_info": {
   "codemirror_mode": {
    "name": "ipython",
    "version": 3
   },
   "file_extension": ".py",
   "mimetype": "text/x-python",
   "name": "python",
   "nbconvert_exporter": "python",
   "pygments_lexer": "ipython3",
   "version": "3.5.3"
  }
 },
 "nbformat": 4,
 "nbformat_minor": 2
}
