{
 "cells": [
  {
   "cell_type": "markdown",
   "metadata": {},
   "source": [
    "## Computer Arithmetic"
   ]
  },
  {
   "cell_type": "markdown",
   "metadata": {},
   "source": [
    "Due to numbers only having a finite representation, we can't assume the general principles of arithmetic"
   ]
  },
  {
   "cell_type": "markdown",
   "metadata": {},
   "source": [
    "Integer operations satisfy ring properties of commutativity, associativity, distributivity.  \n",
    "Commutativity: changing the order of operands gets the same result.   \n",
    "Associativity: (2+3)+4 = 2+(3+4).   \n",
    "Distributivity: 2(3+4) = 2(3) = 2(4)    \n",
    "Floating point operations satisfy the ordering properties, monotonicity, value of signs."
   ]
  },
  {
   "cell_type": "markdown",
   "metadata": {},
   "source": [
    "## Assembly matters\n"
   ]
  },
  {
   "cell_type": "markdown",
   "metadata": {},
   "source": [
    "Understanding assembly helps with debugging and helps you tune your program and make it more efficient. x86 is also the language of choice for malware creators and thus, fighters."
   ]
  },
  {
   "cell_type": "markdown",
   "metadata": {},
   "source": [
    "## Memory matters"
   ]
  },
  {
   "cell_type": "markdown",
   "metadata": {},
   "source": [
    "Memory must be allocated and managed. Memory is not infinite.  \n",
    "Cache and virtual memory can greatly affect program performance. Adapting programs to memory systems can lead to major speed improvements."
   ]
  },
  {
   "cell_type": "markdown",
   "metadata": {},
   "source": [
    "## The constant in O(N) matters as well"
   ]
  },
  {
   "cell_type": "markdown",
   "metadata": {},
   "source": [
    "Constants, looping, data structures, although don't increase the asymptotic complexity, can definitely increase the time it takes to run the code. You must understand the system in order to optimize these things."
   ]
  },
  {
   "cell_type": "markdown",
   "metadata": {},
   "source": [
    "## Computers do more than execute code"
   ]
  },
  {
   "cell_type": "markdown",
   "metadata": {},
   "source": [
    "Although they do process data, they also need to communicate with each other, which can cause problems such as unreliable media, cross platform compatibility"
   ]
  }
 ],
 "metadata": {
  "kernelspec": {
   "display_name": "Python 3",
   "language": "python",
   "name": "python3"
  },
  "language_info": {
   "codemirror_mode": {
    "name": "ipython",
    "version": 3
   },
   "file_extension": ".py",
   "mimetype": "text/x-python",
   "name": "python",
   "nbconvert_exporter": "python",
   "pygments_lexer": "ipython3",
   "version": "3.5.3"
  }
 },
 "nbformat": 4,
 "nbformat_minor": 2
}
