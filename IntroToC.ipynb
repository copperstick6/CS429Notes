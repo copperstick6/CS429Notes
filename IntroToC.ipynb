{
 "cells": [
  {
   "cell_type": "markdown",
   "metadata": {},
   "source": [
    "# Slideset number 1: Intro to C"
   ]
  },
  {
   "cell_type": "markdown",
   "metadata": {},
   "source": [
    "## File inclusion"
   ]
  },
  {
   "cell_type": "markdown",
   "metadata": {},
   "source": [
    "A directive in the from of #include \"filename\" or #include <filename> is replaced by the preprocessor by the contents of the filename.  \n",
    "If the filename is quoted, searching begines in the base directory. If it isn't found there or if braces are used, searching follows an implementation defined rule to find the file.  \n",
    "\n",
    "**TLDR: use brackets for system defined headers and libraries like IO, quotes for files that are in the current directories imported/written by the user.**"
   ]
  },
  {
   "cell_type": "markdown",
   "metadata": {},
   "source": [
    "## Running code"
   ]
  },
  {
   "cell_type": "markdown",
   "metadata": {},
   "source": [
    "You must use the gcc compuler driver to translate your text file into an executable image, and then you must ask the operating system to run the executable."
   ]
  },
  {
   "cell_type": "raw",
   "metadata": {},
   "source": [
    "Rough syntax:  \n",
    "> gcc \"filename.c\"  \n",
    "Default filename if you don't name it is a.out  \n",
    "> a.out  \n",
    "calling a.out runs the file"
   ]
  },
  {
   "cell_type": "markdown",
   "metadata": {},
   "source": [
    "Just calling gcc invokes the preprocessor, the compiler, the assembler, and the linker."
   ]
  },
  {
   "cell_type": "raw",
   "metadata": {},
   "source": [
    "> gcc -O2 \"filename.c\"\n",
    "The -O2 command changes the optimization level of the executable. \n",
    "> gcc -O2 -o \"newname\" \"filename.c\"\n",
    "-o \"newname\" allows you to change the name of the executable and run it by invoking its newname."
   ]
  },
  {
   "cell_type": "markdown",
   "metadata": {},
   "source": [
    "## Programming with Environment Variables"
   ]
  },
  {
   "cell_type": "markdown",
   "metadata": {},
   "source": [
    "Sometimes, you want to get data from the command line, maybe you want to process it inside your main method. You would use argc and argv like this:"
   ]
  },
  {
   "cell_type": "raw",
   "metadata": {},
   "source": [
    "#include <stdio.h>\n",
    "\n",
    "main(int argc, char *argv[]){\n",
    "    printf(\"Status Program has %d command line args .\\n” , argc);\n",
    "}"
   ]
  },
  {
   "cell_type": "markdown",
   "metadata": {},
   "source": [
    "argc and argv reflect the status of the command line. argc is the number of input strings and argv is an array of those imput strings"
   ]
  },
  {
   "cell_type": "markdown",
   "metadata": {},
   "source": [
    "If you wnated to look at the variables in the environment, you would use env. env contains all the strings held by the OS. However, to use env, you also need to use argc and argv."
   ]
  },
  {
   "cell_type": "markdown",
   "metadata": {},
   "source": [
    "## The GNU gcc Compiler"
   ]
  },
  {
   "cell_type": "markdown",
   "metadata": {},
   "source": [
    "It runs on many machines and has many different input languages. It works in phases."
   ]
  },
  {
   "cell_type": "raw",
   "metadata": {},
   "source": [
    "> gcc -v -O2 \"filename\"\n",
    "-v outputs all the files the compiler goes through \n",
    "> gcc -S -O2 \"filename\"\n",
    "-S generates the assembly file and runs it\n",
    "> gcc -S -O2 -c \"filename\"\n",
    "-c generates the assembly code but does not run it\n",
    "> gcc -O -c sum.c\n",
    "> objdump -d sum.o\n",
    "objdump can be used to dissemble the binaru output of the file"
   ]
  }
 ],
 "metadata": {
  "kernelspec": {
   "display_name": "Python 3",
   "language": "python",
   "name": "python3"
  },
  "language_info": {
   "codemirror_mode": {
    "name": "ipython",
    "version": 3
   },
   "file_extension": ".py",
   "mimetype": "text/x-python",
   "name": "python",
   "nbconvert_exporter": "python",
   "pygments_lexer": "ipython3",
   "version": "3.5.3"
  }
 },
 "nbformat": 4,
 "nbformat_minor": 2
}
