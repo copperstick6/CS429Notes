{
 "cells": [
  {
   "cell_type": "markdown",
   "metadata": {
    "collapsed": true
   },
   "source": [
    "# x86-64 Stack"
   ]
  },
  {
   "cell_type": "markdown",
   "metadata": {},
   "source": [
    "Region of memory managed with stack discipline, grows toward lower addresses, %rsp contains lowest stack element, top of the stack"
   ]
  },
  {
   "cell_type": "markdown",
   "metadata": {},
   "source": [
    "**Pushing** (pushq Src), decrements %rsp by 8, puts Src's addresses at the address given by %rsp"
   ]
  },
  {
   "cell_type": "markdown",
   "metadata": {},
   "source": [
    "**Popping** (popq Dest) increments %rsp by 8, Writes the data to Destination"
   ]
  },
  {
   "cell_type": "markdown",
   "metadata": {
    "collapsed": true
   },
   "source": [
    "**You can use stack to support call and return**"
   ]
  },
  {
   "cell_type": "markdown",
   "metadata": {},
   "source": [
    "Procedural call: **call** label   \n",
    "Push return address onto the stack   \n",
    "Jump to label"
   ]
  },
  {
   "cell_type": "markdown",
   "metadata": {},
   "source": [
    "Return address: address of next instruction right after call    \n",
    "Procedural return: **ret**   \n",
    "Pop address from stack, jump to address"
   ]
  },
  {
   "cell_type": "markdown",
   "metadata": {},
   "source": [
    "Languages that support recursion: C/Pascal/Java    \n",
    "Code must be \"reentrant\" (multiple instantiations of a single procedure)    \n",
    "Need a place to store each instantiation    \n",
    "State for each procedure is needed for a limited time, call to return    \n",
    "**Stack is allocated in frames**"
   ]
  },
  {
   "cell_type": "markdown",
   "metadata": {},
   "source": [
    "## Stack Frames"
   ]
  },
  {
   "cell_type": "markdown",
   "metadata": {},
   "source": [
    "### Contents"
   ]
  },
  {
   "cell_type": "markdown",
   "metadata": {},
   "source": [
    "Contains return information, local storage, and temporary storage"
   ]
  },
  {
   "cell_type": "markdown",
   "metadata": {},
   "source": [
    "### Management"
   ]
  },
  {
   "cell_type": "markdown",
   "metadata": {},
   "source": [
    "Space allocated when procedure is entered, includes set up code and push by call instruction"
   ]
  },
  {
   "cell_type": "markdown",
   "metadata": {},
   "source": [
    "Space is deallocated when returning, includes finish code and pop by ret instruction"
   ]
  },
  {
   "cell_type": "markdown",
   "metadata": {},
   "source": [
    "**Frame pointer is %rbp**"
   ]
  },
  {
   "cell_type": "markdown",
   "metadata": {},
   "source": [
    "### Current Stack Frame"
   ]
  },
  {
   "cell_type": "markdown",
   "metadata": {},
   "source": [
    "Contains argument build, or parameters to be called by the next function, local variables, and register context, and possibly the frame pointer"
   ]
  },
  {
   "cell_type": "markdown",
   "metadata": {},
   "source": [
    "Caller Stack Frame contains arguments for the call and the address of return pushed on it."
   ]
  },
  {
   "cell_type": "markdown",
   "metadata": {},
   "source": [
    "## Example Caller/Callee Register Saving Conventions"
   ]
  },
  {
   "cell_type": "raw",
   "metadata": {},
   "source": [
    "yoo:     \n",
    "    movq $15213, %rdx     \n",
    "    call who     \n",
    "who:    \n",
    "    subq $18213, %rdx"
   ]
  },
  {
   "cell_type": "markdown",
   "metadata": {},
   "source": [
    "Contents of %rdx could be written by who, this could call problems, need to coordinate between caller and callee"
   ]
  },
  {
   "cell_type": "markdown",
   "metadata": {},
   "source": [
    "When yoo calls who, yoo is the caller, who is the callee"
   ]
  },
  {
   "cell_type": "markdown",
   "metadata": {},
   "source": [
    "The convention is that it is generally **Caller Saved**, which means that the caller saves temporary values in its frame before the call     \n",
    "**Callee Saved** means that the Callee saves temporary values in its frame before using them, and the callee restores them before turning to the caller"
   ]
  },
  {
   "cell_type": "markdown",
   "metadata": {},
   "source": [
    "## Registers in x86"
   ]
  },
  {
   "cell_type": "markdown",
   "metadata": {},
   "source": [
    "%rax is return value and caller saved and can be modified by the procedure.  \n",
    "%rdi, %rsi, %rdx, %rcx, %r8, %r9 are arguments, caller saved, and can be modified by procedure    \n",
    "%r10, %r11 are caller saved and can be modified by the procedure"
   ]
  },
  {
   "cell_type": "markdown",
   "metadata": {},
   "source": [
    "%rbx, %r12, %r13, %r14- callee saved, callee must save and restore    \n",
    "%rbp- frame pointer, can mix and match, can be used as a storage register, callee saved    \n",
    "%rsp- special form of callee saved, restored to original value upon program exit"
   ]
  }
 ],
 "metadata": {
  "kernelspec": {
   "display_name": "Python 3",
   "language": "python",
   "name": "python3"
  },
  "language_info": {
   "codemirror_mode": {
    "name": "ipython",
    "version": 3
   },
   "file_extension": ".py",
   "mimetype": "text/x-python",
   "name": "python",
   "nbconvert_exporter": "python",
   "pygments_lexer": "ipython3",
   "version": "3.5.3"
  }
 },
 "nbformat": 4,
 "nbformat_minor": 2
}
