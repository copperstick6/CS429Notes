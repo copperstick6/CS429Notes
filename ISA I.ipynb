{
 "cells": [
  {
   "cell_type": "markdown",
   "metadata": {},
   "source": [
    "# ISA I"
   ]
  },
  {
   "cell_type": "markdown",
   "metadata": {},
   "source": [
    "## Y86"
   ]
  },
  {
   "cell_type": "markdown",
   "metadata": {},
   "source": [
    "Y86 is much simpler than x86, there's less instructions, fewer addressing modes, and a simpler system state."
   ]
  },
  {
   "cell_type": "markdown",
   "metadata": {},
   "source": [
    "There are various ways of giving *semantics* or meaning to a programming system. The most sensible semantic for assembly launguage is operation semantics or interpreter semantics, which means that we explain the semantics of each possible operation in the language by explaining the effect the operation has on the machine state."
   ]
  },
  {
   "cell_type": "markdown",
   "metadata": {},
   "source": [
    "The most fundamental abstraction for machine semantics is **Fetch, Decode, Execute** cycle."
   ]
  },
  {
   "cell_type": "markdown",
   "metadata": {},
   "source": [
    "The steps are:  \n",
    "Fetch: Fetch the next instruction (the PC tells you which instruction is next)  \n",
    "Decode: Decode the instruction (in the control unit)  \n",
    "Execute: Execute the instruction, updating the state properly   \n",
    "Go back to step 1"
   ]
  },
  {
   "cell_type": "markdown",
   "metadata": {},
   "source": [
    "## Y86 Processor State"
   ]
  },
  {
   "cell_type": "markdown",
   "metadata": {},
   "source": [
    "The Y86 Processor's **registers** are similar to that in x86: %rax, %rbx, %rcx, %rdx, %rbp, %rsp, %rdi, %rsi, %r8- %r14  \n",
    "The **condition flags** are one bit flags set by arithmetic and logical flags OF (Overflow), ZF (Zero flag), SF (Negative)   \n",
    "**Program Counter** indicates the address of instruction   \n",
    "**Memory** is byte addressable, and words are stored in little endian order   \n",
    "**Status code** can be AOK, HLT, INS, ADR to indicate state of program execution"
   ]
  },
  {
   "cell_type": "markdown",
   "metadata": {},
   "source": [
    "We're actually describing both the assembly and machine languages.  \n",
    "Machine language instructions are read 1-10 bits at a time with the instruction length determined from the first byte  \n",
    "There aren't as many instruction tyoes and simpler encoding than x86-64  \n",
    "Each instruction accesses and modifies some part of the program state"
   ]
  },
  {
   "cell_type": "markdown",
   "metadata": {},
   "source": [
    "Each register has a 4-bit id 0-F, most registers are general purpose except %rsp, which is the stack pointer"
   ]
  },
  {
   "cell_type": "markdown",
   "metadata": {},
   "source": [
    "## Addressing modes"
   ]
  },
  {
   "cell_type": "markdown",
   "metadata": {},
   "source": [
    "Immediate: Value to register  \n",
    "Register: Register to register   \n",
    "Normal(R)/Indirect Addressing: Data in Memory address in register to register   \n",
    "Displacement(D) Addressing: Data in (Memory address + amount) in register to register"
   ]
  },
  {
   "cell_type": "markdown",
   "metadata": {},
   "source": [
    "## Argument Passing"
   ]
  },
  {
   "cell_type": "markdown",
   "metadata": {},
   "source": [
    "The first six parameters of any procedure are passed in order to 6 specific registers, rdi, rsi, rdx, rcx, r8, r9, which you can memorize using the mnemonic Diane's silk dress cost $89.  \n",
    "The return value register is %rax."
   ]
  },
  {
   "cell_type": "markdown",
   "metadata": {},
   "source": [
    "## Add Instruction example"
   ]
  },
  {
   "cell_type": "markdown",
   "metadata": {},
   "source": [
    "Encoded representation takes on a generic form: A two byte encoding, the first byte indicates the **instruction type** and the second byte indicates the **source and destination registers**."
   ]
  },
  {
   "cell_type": "markdown",
   "metadata": {},
   "source": [
    "addq %rsi %rdi  \n",
    "The encoded representation is 60 06, and the purpose of this line is to add rsi and rdi and store the result in rdi. 60 indicates the instruction type, and the 06 indicates the source register, 0, and the destination register, 6."
   ]
  },
  {
   "cell_type": "markdown",
   "metadata": {},
   "source": [
    "The effect on the state is threefold:  \n",
    "1. Set the contents of %rdi to the sum of rsi and rdi   \n",
    "2. Set condition flags based on the result of the sum, **OF** if result causes overflow, **ZF** if the result is zero, **SF** if the result is negative.   \n",
    "3. Increment the program counter by 2, 2 because it's a 2 byte instruction"
   ]
  },
  {
   "cell_type": "markdown",
   "metadata": {},
   "source": [
    "## Moving"
   ]
  },
  {
   "cell_type": "markdown",
   "metadata": {},
   "source": [
    "**Y86 adds special move instructions to compensate for the lack of certain addressing modes**"
   ]
  },
  {
   "cell_type": "markdown",
   "metadata": {},
   "source": [
    "### Conditional Moves"
   ]
  },
  {
   "cell_type": "markdown",
   "metadata": {},
   "source": [
    "Generally referred to as cmovXX, generally in the form 2 fn rA rB.    \n",
    "Encodings differ by fn     \n",
    "rrmovq is a special case, even though it starts with a 2, it's still an unconditional move (register to register) code is 20, fn is 0     \n",
    "What happens is dependent on the value of the condition codes.   \n",
    "Conditionally copy source to destination register"
   ]
  },
  {
   "cell_type": "markdown",
   "metadata": {
    "collapsed": true
   },
   "source": [
    "## Jumps"
   ]
  },
  {
   "cell_type": "markdown",
   "metadata": {},
   "source": [
    "Generally referred to as jXX, in the form 7 fn Dest   \n",
    "Encodings differ by fn   \n",
    "Same as x86-64 counterparts    \n",
    "Encode full address of destination"
   ]
  },
  {
   "cell_type": "markdown",
   "metadata": {},
   "source": [
    "## Y86 Program Stack"
   ]
  },
  {
   "cell_type": "markdown",
   "metadata": {},
   "source": [
    "Region of Memory holding program data   \n",
    "Top of the stack indicated by %rsp   \n",
    "Stack grows toward lower addresses   \n",
    "**Top element is at lowest address in stack**   \n",
    "When **pushing**, must **decrement** the stack pointer    \n",
    "When **popping**, **increment** stack pointer"
   ]
  },
  {
   "cell_type": "markdown",
   "metadata": {},
   "source": [
    "Pushing: generally in the form pushq rA, which is in the form a 0 rA F  \n",
    "This decrements the stack pointer by 8, stores the quad word from rA to memory at rsp, a is the code for pushq, and rA is the register to be pushed and F means no register   \n",
    "Popping: generally in the form popq rB, which is in the form b 0 rB F   \n",
    "This increments the stack pointer by 8, reads the quad word from rsp and store it in rB"
   ]
  },
  {
   "cell_type": "markdown",
   "metadata": {},
   "source": [
    "**Calling** methods: generally in the form Call Dest, which is in the form 8 0 dest   \n",
    "Push the address of dest onto the program stack and start executing instructions of dest"
   ]
  },
  {
   "cell_type": "markdown",
   "metadata": {},
   "source": [
    "**Returning**: Popping values from stack to return is in the form 9 0  "
   ]
  },
  {
   "cell_type": "markdown",
   "metadata": {},
   "source": [
    "**Advancing** the PC: nop 1 0"
   ]
  },
  {
   "cell_type": "markdown",
   "metadata": {},
   "source": [
    "**Halting** the program: halt 0 0, sets the HLT flag and stops executing instructions"
   ]
  },
  {
   "cell_type": "markdown",
   "metadata": {},
   "source": [
    "## Y86 Directives"
   ]
  },
  {
   "cell_type": "markdown",
   "metadata": {},
   "source": [
    "**.pos** - subsequent lines of code start at the address x   \n",
    "**.align** - align the next line to an x-byte boundary i.e. quad words should be divisible by 8, so align 8    \n",
    "**.quad** - put x at the current address, initializing the value"
   ]
  },
  {
   "cell_type": "code",
   "execution_count": null,
   "metadata": {
    "collapsed": true
   },
   "outputs": [],
   "source": []
  }
 ],
 "metadata": {
  "kernelspec": {
   "display_name": "Python 3",
   "language": "python",
   "name": "python3"
  },
  "language_info": {
   "codemirror_mode": {
    "name": "ipython",
    "version": 3
   },
   "file_extension": ".py",
   "mimetype": "text/x-python",
   "name": "python",
   "nbconvert_exporter": "python",
   "pygments_lexer": "ipython3",
   "version": "3.5.3"
  }
 },
 "nbformat": 4,
 "nbformat_minor": 2
}
